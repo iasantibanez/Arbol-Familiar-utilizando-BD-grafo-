import json
from collections import deque
import sys

with open('personas.json') as json_file:
    data = json.load(json_file)

class Nodo:

    def __init__(self, nombre, rut, rut_padre, rut_madre, padre=None):
        self.nombre = nombre
        self.padre = padre
        self.rut = rut
        self.rut_padre = rut_padre
        self.rut_madre = rut_madre
        self.hijos = []

        if padre:
            self.padre.hijos.append(self)

class Persona:
    def __init__(self, rut, nombre, apellido, genero, rut_padre, rut_madre, padre=None):
        self.rut = rut
        self.nombre = nombre
        self.apellido = apellido
        self.genero = genero
        self.rut_madre = rut_madre
        self.rut_padre = rut_padre
        self.hijos = []
        self.padre = padre

        if padre:
            self.padre.hijos.append(self)

    def __repr__(self):
        return self.nombre

    def agregar_padre(self, padre):
        self.padre = padre

class Arbol:
    def __init__(self, familia):
        self.familia = familia
        self.familia_resp = self.familia[:]
        self.familia_ordenada = []
        self.generaciones_con_conyuges =[]
        self.apellido_fam = None
        self.hijos={}
        self.jefe = None

    def patriarca(self):
        for i in self.familia:
            if i.rut_madre == None and i.rut_madre == None:
                patriarca = i
                self.familia.remove(i)
                self.apellido_fam = patriarca.apellido
                self.familia_ordenada.append([patriarca])
                self.jefe = i
                break
            else:
                None

    def agregar_hijos(self):
        while len(self.familia) > 0:
            aux = []
            a_borrar = []

            for j in self.familia_ordenada:
                for k in j:# para cada posible "padre"
                    hijos_aux = []
                    for i in self.familia: # buscar en el resto de familia
                        if i.rut_padre == k.rut or i.rut_madre == k.rut:
                            aux.append(i)
                            a_borrar.append(i)
                            hijos_aux.append(i)
                        else:
                            None
                    if len(hijos_aux) > 0:
                        self.hijos[k.nombre]=hijos_aux

            self.familia_ordenada.append(aux)
            for j in a_borrar:
                self.familia.remove(j)

    def agregar_persona(self,persona):
        i = 0
        for j in self.familia_ordenada:
            for k in j:
                if persona.rut_padre == k.rut or persona.rut_madre == k.rut:
                    self.familia_ordenada[i+1].append(persona)
                    self.generaciones_con_conyuges[i+1].append(persona)#Dado que soy el hijo, me agrego en la generacion siguiente
                    break
                else:
                    None
            i = i + 1

    def agregar_conyu(self,lista):
        lista_aux = []
        for j in lista:
            i = 0
            for k in self.familia_ordenada:
                lista_aux1 = []
                for t in k:
                    if j.rut == t.rut_padre or j.rut == t.rut_madre:
                        lista_aux1.append(t)
                        lista_aux[i-1].append(j) #Dado que soy el padre/madre, me agrego en la generacion anterior
                        break
                    else:
                        lista_aux1.append(t)
                i = i + 1
                if len(lista_aux) < len(self.familia_ordenada):
                    lista_aux.append(lista_aux1)
                else:
                    None
        self.generaciones_con_conyuges = lista_aux


#obtencion de datos y creacion de objetos (personas)
POBLACION=[]
for i in data:
    aux=[]
    for j in data[i]:
        aux.append(data[i][j])
    POBLACION.append(Persona(i,aux[0],aux[1],aux[2],aux[3],aux[4]))


#definiendo los conjuntos de personas (con mismo apellido)
set_apellidos= set()
for i in POBLACION:
    set_apellidos.add(i.apellido)

id=0
LISTA_grupos=[]
LISTA_conyuges=[]
for j in set_apellidos:
    LISTA_grupos.append([])
    for k in POBLACION:
        if k.apellido == j:
            LISTA_grupos[id].append(k)
    id+=1

LISTA_familias=[]
for familia in LISTA_grupos:
    if len(familia)>1:     #es una familia
        LISTA_familias.append(familia)
    else:         #es conyuge
        LISTA_conyuges.append(familia[0])

grafos = []
dicc_arboles={}
for i in LISTA_familias:
    grafo = Arbol(i)
    grafo.patriarca()
    grafo.agregar_hijos()
    grafos.append(grafo)
    dicc_arboles[grafo.apellido_fam]=grafo
for i in grafos:
    i.agregar_conyu(LISTA_conyuges)


## -----------------------------------------CONSULTAS--------------------------------------
def cant_per_gen(gen,familia):
    print(grafos[familia].familia_ordenada[gen-1])
    return print(len(grafos[familia].familia_ordenada[gen-1]))

def agregar_per(datos): #Asumiendo que me piden agregar de a 1 persona y me entregan sus 5 datos en una lista
    aux=[]
    for i in datos:
        aux.append(i)
    persona_creada = Persona(aux[0],aux[1],aux[2],aux[3],aux[4],aux[5])
    for i in grafos:
        if persona_creada.apellido == i.apellido_fam:
            i.agregar_persona(persona_creada)
            break
        else:
            None

def fam_con_mas(k):
    largo = []
    for i in grafos:
        largo.append([len(i.familia_ordenada),i])
    t = 0
    while t < k:
        familia = largo[0][1]
        familia_larga = largo[0][0]
        eliminar = [familia_larga, familia]
        for i in largo:
            if i[0] > familia_larga:
                familia_larga = i[0]
                familia = i[1]
                eliminar = [familia_larga, familia]
            else:
                None
        t = t + 1
        largo.remove(eliminar)
        print("Largo familia es: "+str(familia_larga))
        print(familia.familia_resp)

def antepasado_comun(rut1,rut2):
    rut_persona1=rut1
    rut_persona2=rut2
    antepasado_per1=[]
    antepasado_per2=[]
    dist=0
    def busca_persona(rut):
        persona=None
        for k in POBLACION:
            if k.rut == rut:
                persona = k
        return persona
    persona1=busca_persona(rut_persona1)
    persona2=busca_persona(rut_persona2)
    a = 50
    aux=[]
    while a > 0:
        if len(antepasado_per1) == 0 or len(antepasado_per2) == 0:
            if persona1.rut_padre != None and persona1.rut_madre != None and persona2.rut_padre != None and persona2.rut_madre != None:
                antepasado_per1.append(busca_persona(persona1.rut_padre))
                antepasado_per1.append(busca_persona(persona1.rut_madre))
                antepasado_per2.append(busca_persona(persona2.rut_padre))
                antepasado_per2.append(busca_persona(persona2.rut_madre))
        for i in antepasado_per1:
            if busca_persona(i.rut_padre) != None and busca_persona(i.rut_madre) != None:
                antepasado_per1.append(busca_persona(i.rut_padre))
                antepasado_per1.append(busca_persona(i.rut_madre))
        for j in antepasado_per2:
            if busca_persona(j.rut_padre) != None and busca_persona(j.rut_madre) != None:
                antepasado_per2.append(busca_persona(j.rut_padre))
                antepasado_per2.append(busca_persona(j.rut_madre))
        a-=1
        if len(set(antepasado_per1).intersection(set(antepasado_per2))) > 0:
            aux0 = set(antepasado_per1).intersection(set(antepasado_per2))  # TODOS LOS ANTEPASADOS EN COMUN
            aux =  list(set(aux0).difference(LISTA_conyuges))               # TODOS LO ANTERIOR MENOS LOS CONYUGES
            print("El primer antepasado en común entre","[",persona1,"y",persona2,"]","es :",aux[-1]) # "primer" antepasado en comun
            # aux[-1] el primer antepasado en comun
            break
    if len(aux) != 0:
        def posicion(per):
            pos=0
            while True:
                if per in dicc_arboles[per.apellido].familia_ordenada[pos]:
                    break
                else:
                    pos+=1
            return pos
        dist=posicion(persona1)+posicion(persona2)-2*posicion(aux[-1])
        print("La distancia es:",dist)
    else:
        print("No hay antepasados en comun entre","[",persona1,"-",persona2,"]")

    # posicion da el numero de la generacion en la que se encuentra.
    return

def Personas_mas_jovenes(k):
    lista_ruts=[]
    id={}
    for i in POBLACION:
        numero=int(i.rut.split("-")[0])
        lista_ruts.append(numero)
        id[numero] = i.rut.split("-")[1]
    lista_ruts_ordenados=sorted(lista_ruts)
    for i in range(k):
        print(str(lista_ruts_ordenados[-(i+1)])+'-'+id[lista_ruts_ordenados[-(i+1)]])

def persona_mas_lejana(rut_persona): #Printea todas las personas que se encuentran en el menor nivel del arbol, de la familia, del rut ingresado
    persona=None
    rut_objetivo=rut_persona
    for k in POBLACION:
        if k.rut == rut_objetivo:
            persona = k
        else:
            None
    for i in grafos:
        if i.apellido_fam == persona.apellido:
            gen=0
            for h in i.familia_ordenada:
                if persona in h:
                    gen_persona = gen
                encontrado = (h,gen)
                gen+=1
            real_encontrado = encontrado[0]
            #Esta seria si nos pudieran con distancia #real_encontrado = (encontrado[0],encontrado[1]-gen_persona)
            print("Los descendientes más lejanos de",persona.nombre,"son:",real_encontrado) #O se le podría poner el rut a la persona

def print_arbol(nodo_actual, indent="", last='updown'):

    nb_hijos = lambda nodo: sum(nb_hijos(hijo) for hijo in nodo.hijos) + 1
    size_branch = {hijo: nb_hijos(hijo) for hijo in nodo_actual.hijos}

    """ Creation of balanced lists for "up" branch and "down" branch. """
    up = sorted(nodo_actual.hijos, key=lambda nodo: nb_hijos(nodo))
    down = []
    while up and sum(size_branch[nodo] for nodo in down) < sum(size_branch[nodo] for nodo in up):
        down.append(up.pop())

    """ Printing of "up" branch. """
    for hijo in up:
        next_last = 'up' if up.index(hijo) is 0 else ''
        next_indent = '{0}{1}{2}'.format(indent, ' ' if 'up' in last else '│', " " * len(nodo_actual.nombre))
        print_arbol(hijo, indent=next_indent, last=next_last)

    """ Printing of current node. """
    if last == 'up': start_shape = '┌'
    elif last == 'down': start_shape = '└'
    elif last == 'updown': start_shape = ' '
    else: start_shape = '├'

    if up: end_shape = '┤'
    elif down: end_shape = '┐'
    else: end_shape = ''

    print ("{0}{1}{2}{3}".format(indent, start_shape, nodo_actual.nombre, end_shape))

    """ Printing of "down" branch. """
    for hijo in down:
        next_last = 'down' if down.index(hijo) is len(down) - 1 else ''
        next_indent = '{0}{1}{2}'.format(indent, ' ' if 'down' in last else '│', " " * len(nodo_actual.nombre))
        #print(hijo)
        print_arbol(hijo, indent=next_indent, last=next_last)

def Mostrar_Arboles(): #incluye conyuges y personas agregadas
    for i in POBLACION:
        if i.rut_padre == None and i.rut_madre == None:
            nombre = i.nombre
        else:
            for k in POBLACION:
                if i.rut_padre == k.rut:
                    padre = k
                    nombre = i.nombre
                    i.agregar_padre(k)
                elif i.rut_madre == k.rut:
                    madre = k
                    nombre = i.nombre
                    i.agregar_padre(k)
                else:
                    None
    nodos=[]
    for i in POBLACION:
        if i.rut_padre == None and i.rut_madre == None:
            nombre = i.nombre
            nombre = Nodo(i.nombre, i.rut, i.rut_padre, i.rut_madre)
            nodos.append(nombre)
        else:
            for k in nodos:
                if i.rut_padre == k.rut:
                    nombre = i.nombre
                    nombre = Nodo(i.nombre, i.rut, i.rut_padre, i.rut_madre, k)
                    nodos.append(nombre)
                elif i.rut_madre == k.rut:
                    nombre = i.nombre
                    nombre = Nodo(i.nombre, i.rut, i.rut_padre, i.rut_madre, k)
                    nodos.append(nombre)
                else:
                    None
    for k in grafos:
        jefe = k.jefe
        for i in nodos:
            if i.nombre == jefe.nombre:
                print_arbol(i)

#--------------------------------------Ejecucion consultas--------------------------------------
#cant_per_gen(2,0) #Serian los hijos del patriarca (por eso arriba le puse el -1)
#cant_per_gen(2,1)
#cant_per_gen(2,2)

#agregar_per(["1924526-k", "Juanito", "Gonzalez", "Masculino", "10999825-7", "9999999-9"])
#for k in grafos:
    #if k.apellido_fam == "Gonzalez":
        #print(k.familia_ordenada) #Con Juanito agregado

#fam_con_mas(3)

#for i in grafos:
    #print(i.familia_ordenada, "sin conyuges")
    #print(i.generaciones_con_conyuges, "con conyuges")

#Personas_mas_jovenes(3)

#antepasado_comun('12646363-3','13714991-8') #april 12646363-3, 13714991-8 james, jon 16302658-9, JAMES Y APRIL SON HERMANOS, JON ES SU PRIMO
#antepasado_comun('16107137-4','8350373-3')  # prueba del hijo de duane; Heather ; con hijo de cheryl: JASON (sobrino)
#antepasado_comun('12646363-3','8350373-3')

#persona_mas_lejana('20289115-5') #Dado que es el rut de Crystal, nos tira a su ¿hijo? Jason
#persona_mas_lejana('16446564-2') #Dado que es el rut de daniel, nos tira los 6 nietos
#persona_mas_lejana('11514289-4')  #Dado que es el rut de Jessica, nos tira los 6 sobrinos
sys.stdout = codecs.getwriter('utf8')(sys.stdout)
print (sys.stdout.encoding)
#Mostrar_Arboles()
